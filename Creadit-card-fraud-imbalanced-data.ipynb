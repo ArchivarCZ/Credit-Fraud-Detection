{
 "cells": [
  {
   "cell_type": "markdown",
   "metadata": {
    "papermill": {
     "duration": 0.038798,
     "end_time": "2021-08-04T22:11:41.871589",
     "exception": false,
     "start_time": "2021-08-04T22:11:41.832791",
     "status": "completed"
    },
    "tags": []
   },
   "source": [
    "# Introduction"
   ]
  },
  {
   "cell_type": "markdown",
   "metadata": {
    "papermill": {
     "duration": 0.03709,
     "end_time": "2021-08-04T22:11:41.947316",
     "exception": false,
     "start_time": "2021-08-04T22:11:41.910226",
     "status": "completed"
    },
    "tags": []
   },
   "source": [
    "The datasets contains transactions made by credit cards in September 2013 by european cardholders.\n",
    "This dataset presents transactions that occurred in two days, where we have 492 frauds out of 284,807 transactions.\n",
    "The dataset is highly unbalanced, the positive class (frauds) account for 0.172% of all transactions.\n",
    "\n",
    "It contains only numerical input variables which are the result of a PCA transformation.\n",
    "Due to confidentiality issues, there are not provided the original features and more background information about the data.\n",
    "\n",
    "- Features V1, V2, ... V28 are the principal components obtained with PCA;\n",
    "- The only features which have not been transformed with PCA are Time and Amount. Feature Time contains the seconds elapsed between each transaction and the first transaction in the dataset. The feature Amount is the transaction Amount, this feature can be used for example-dependant cost-senstive learning.\n",
    "- Feature Class is the response variable and it takes value 1 in case of fraud and 0 if it was normal transaction"
   ]
  },
  {
   "cell_type": "code",
   "execution_count": 1,
   "metadata": {
    "execution": {
     "iopub.execute_input": "2021-08-04T22:11:42.026981Z",
     "iopub.status.busy": "2021-08-04T22:11:42.025681Z",
     "iopub.status.idle": "2021-08-04T22:11:43.143398Z",
     "shell.execute_reply": "2021-08-04T22:11:43.143961Z",
     "shell.execute_reply.started": "2021-08-04T22:08:16.241997Z"
    },
    "papermill": {
     "duration": 1.1595,
     "end_time": "2021-08-04T22:11:43.144283",
     "exception": false,
     "start_time": "2021-08-04T22:11:41.984783",
     "status": "completed"
    },
    "tags": []
   },
   "outputs": [],
   "source": [
    "import pandas as pd \n",
    "import numpy as np\n",
    "import matplotlib.pyplot as plt\n",
    "import seaborn as sns\n",
    "import warnings\n",
    "warnings.filterwarnings(\"ignore\")\n",
    "%matplotlib inline"
   ]
  },
  {
   "cell_type": "code",
   "execution_count": 2,
   "metadata": {
    "execution": {
     "iopub.execute_input": "2021-08-04T22:11:43.222783Z",
     "iopub.status.busy": "2021-08-04T22:11:43.222066Z",
     "iopub.status.idle": "2021-08-04T22:11:48.240012Z",
     "shell.execute_reply": "2021-08-04T22:11:48.240629Z",
     "shell.execute_reply.started": "2021-08-04T22:08:16.251447Z"
    },
    "papermill": {
     "duration": 5.057923,
     "end_time": "2021-08-04T22:11:48.240828",
     "exception": false,
     "start_time": "2021-08-04T22:11:43.182905",
     "status": "completed"
    },
    "tags": []
   },
   "outputs": [],
   "source": [
    "df = pd.read_csv('creditcard.csv')"
   ]
  },
  {
   "cell_type": "code",
   "execution_count": 3,
   "metadata": {
    "execution": {
     "iopub.execute_input": "2021-08-04T22:11:48.322697Z",
     "iopub.status.busy": "2021-08-04T22:11:48.321732Z",
     "iopub.status.idle": "2021-08-04T22:11:48.372746Z",
     "shell.execute_reply": "2021-08-04T22:11:48.373502Z",
     "shell.execute_reply.started": "2021-08-04T22:08:20.405051Z"
    },
    "papermill": {
     "duration": 0.094025,
     "end_time": "2021-08-04T22:11:48.373719",
     "exception": false,
     "start_time": "2021-08-04T22:11:48.279694",
     "status": "completed"
    },
    "tags": []
   },
   "outputs": [
    {
     "data": {
      "text/html": [
       "<div>\n",
       "<style scoped>\n",
       "    .dataframe tbody tr th:only-of-type {\n",
       "        vertical-align: middle;\n",
       "    }\n",
       "\n",
       "    .dataframe tbody tr th {\n",
       "        vertical-align: top;\n",
       "    }\n",
       "\n",
       "    .dataframe thead th {\n",
       "        text-align: right;\n",
       "    }\n",
       "</style>\n",
       "<table border=\"1\" class=\"dataframe\">\n",
       "  <thead>\n",
       "    <tr style=\"text-align: right;\">\n",
       "      <th></th>\n",
       "      <th>Time</th>\n",
       "      <th>V1</th>\n",
       "      <th>V2</th>\n",
       "      <th>V3</th>\n",
       "      <th>V4</th>\n",
       "      <th>V5</th>\n",
       "      <th>V6</th>\n",
       "      <th>V7</th>\n",
       "      <th>V8</th>\n",
       "      <th>V9</th>\n",
       "      <th>...</th>\n",
       "      <th>V21</th>\n",
       "      <th>V22</th>\n",
       "      <th>V23</th>\n",
       "      <th>V24</th>\n",
       "      <th>V25</th>\n",
       "      <th>V26</th>\n",
       "      <th>V27</th>\n",
       "      <th>V28</th>\n",
       "      <th>Amount</th>\n",
       "      <th>Class</th>\n",
       "    </tr>\n",
       "  </thead>\n",
       "  <tbody>\n",
       "    <tr>\n",
       "      <th>0</th>\n",
       "      <td>0.0</td>\n",
       "      <td>-1.359807</td>\n",
       "      <td>-0.072781</td>\n",
       "      <td>2.536347</td>\n",
       "      <td>1.378155</td>\n",
       "      <td>-0.338321</td>\n",
       "      <td>0.462388</td>\n",
       "      <td>0.239599</td>\n",
       "      <td>0.098698</td>\n",
       "      <td>0.363787</td>\n",
       "      <td>...</td>\n",
       "      <td>-0.018307</td>\n",
       "      <td>0.277838</td>\n",
       "      <td>-0.110474</td>\n",
       "      <td>0.066928</td>\n",
       "      <td>0.128539</td>\n",
       "      <td>-0.189115</td>\n",
       "      <td>0.133558</td>\n",
       "      <td>-0.021053</td>\n",
       "      <td>149.62</td>\n",
       "      <td>0</td>\n",
       "    </tr>\n",
       "    <tr>\n",
       "      <th>1</th>\n",
       "      <td>0.0</td>\n",
       "      <td>1.191857</td>\n",
       "      <td>0.266151</td>\n",
       "      <td>0.166480</td>\n",
       "      <td>0.448154</td>\n",
       "      <td>0.060018</td>\n",
       "      <td>-0.082361</td>\n",
       "      <td>-0.078803</td>\n",
       "      <td>0.085102</td>\n",
       "      <td>-0.255425</td>\n",
       "      <td>...</td>\n",
       "      <td>-0.225775</td>\n",
       "      <td>-0.638672</td>\n",
       "      <td>0.101288</td>\n",
       "      <td>-0.339846</td>\n",
       "      <td>0.167170</td>\n",
       "      <td>0.125895</td>\n",
       "      <td>-0.008983</td>\n",
       "      <td>0.014724</td>\n",
       "      <td>2.69</td>\n",
       "      <td>0</td>\n",
       "    </tr>\n",
       "    <tr>\n",
       "      <th>2</th>\n",
       "      <td>1.0</td>\n",
       "      <td>-1.358354</td>\n",
       "      <td>-1.340163</td>\n",
       "      <td>1.773209</td>\n",
       "      <td>0.379780</td>\n",
       "      <td>-0.503198</td>\n",
       "      <td>1.800499</td>\n",
       "      <td>0.791461</td>\n",
       "      <td>0.247676</td>\n",
       "      <td>-1.514654</td>\n",
       "      <td>...</td>\n",
       "      <td>0.247998</td>\n",
       "      <td>0.771679</td>\n",
       "      <td>0.909412</td>\n",
       "      <td>-0.689281</td>\n",
       "      <td>-0.327642</td>\n",
       "      <td>-0.139097</td>\n",
       "      <td>-0.055353</td>\n",
       "      <td>-0.059752</td>\n",
       "      <td>378.66</td>\n",
       "      <td>0</td>\n",
       "    </tr>\n",
       "    <tr>\n",
       "      <th>3</th>\n",
       "      <td>1.0</td>\n",
       "      <td>-0.966272</td>\n",
       "      <td>-0.185226</td>\n",
       "      <td>1.792993</td>\n",
       "      <td>-0.863291</td>\n",
       "      <td>-0.010309</td>\n",
       "      <td>1.247203</td>\n",
       "      <td>0.237609</td>\n",
       "      <td>0.377436</td>\n",
       "      <td>-1.387024</td>\n",
       "      <td>...</td>\n",
       "      <td>-0.108300</td>\n",
       "      <td>0.005274</td>\n",
       "      <td>-0.190321</td>\n",
       "      <td>-1.175575</td>\n",
       "      <td>0.647376</td>\n",
       "      <td>-0.221929</td>\n",
       "      <td>0.062723</td>\n",
       "      <td>0.061458</td>\n",
       "      <td>123.50</td>\n",
       "      <td>0</td>\n",
       "    </tr>\n",
       "    <tr>\n",
       "      <th>4</th>\n",
       "      <td>2.0</td>\n",
       "      <td>-1.158233</td>\n",
       "      <td>0.877737</td>\n",
       "      <td>1.548718</td>\n",
       "      <td>0.403034</td>\n",
       "      <td>-0.407193</td>\n",
       "      <td>0.095921</td>\n",
       "      <td>0.592941</td>\n",
       "      <td>-0.270533</td>\n",
       "      <td>0.817739</td>\n",
       "      <td>...</td>\n",
       "      <td>-0.009431</td>\n",
       "      <td>0.798278</td>\n",
       "      <td>-0.137458</td>\n",
       "      <td>0.141267</td>\n",
       "      <td>-0.206010</td>\n",
       "      <td>0.502292</td>\n",
       "      <td>0.219422</td>\n",
       "      <td>0.215153</td>\n",
       "      <td>69.99</td>\n",
       "      <td>0</td>\n",
       "    </tr>\n",
       "  </tbody>\n",
       "</table>\n",
       "<p>5 rows × 31 columns</p>\n",
       "</div>"
      ],
      "text/plain": [
       "   Time        V1        V2        V3        V4        V5        V6        V7  \\\n",
       "0   0.0 -1.359807 -0.072781  2.536347  1.378155 -0.338321  0.462388  0.239599   \n",
       "1   0.0  1.191857  0.266151  0.166480  0.448154  0.060018 -0.082361 -0.078803   \n",
       "2   1.0 -1.358354 -1.340163  1.773209  0.379780 -0.503198  1.800499  0.791461   \n",
       "3   1.0 -0.966272 -0.185226  1.792993 -0.863291 -0.010309  1.247203  0.237609   \n",
       "4   2.0 -1.158233  0.877737  1.548718  0.403034 -0.407193  0.095921  0.592941   \n",
       "\n",
       "         V8        V9  ...       V21       V22       V23       V24       V25  \\\n",
       "0  0.098698  0.363787  ... -0.018307  0.277838 -0.110474  0.066928  0.128539   \n",
       "1  0.085102 -0.255425  ... -0.225775 -0.638672  0.101288 -0.339846  0.167170   \n",
       "2  0.247676 -1.514654  ...  0.247998  0.771679  0.909412 -0.689281 -0.327642   \n",
       "3  0.377436 -1.387024  ... -0.108300  0.005274 -0.190321 -1.175575  0.647376   \n",
       "4 -0.270533  0.817739  ... -0.009431  0.798278 -0.137458  0.141267 -0.206010   \n",
       "\n",
       "        V26       V27       V28  Amount  Class  \n",
       "0 -0.189115  0.133558 -0.021053  149.62      0  \n",
       "1  0.125895 -0.008983  0.014724    2.69      0  \n",
       "2 -0.139097 -0.055353 -0.059752  378.66      0  \n",
       "3 -0.221929  0.062723  0.061458  123.50      0  \n",
       "4  0.502292  0.219422  0.215153   69.99      0  \n",
       "\n",
       "[5 rows x 31 columns]"
      ]
     },
     "execution_count": 3,
     "metadata": {},
     "output_type": "execute_result"
    }
   ],
   "source": [
    "df.head()"
   ]
  },
  {
   "cell_type": "code",
   "execution_count": 4,
   "metadata": {
    "execution": {
     "iopub.execute_input": "2021-08-04T22:11:48.457048Z",
     "iopub.status.busy": "2021-08-04T22:11:48.456293Z",
     "iopub.status.idle": "2021-08-04T22:11:48.463712Z",
     "shell.execute_reply": "2021-08-04T22:11:48.464278Z",
     "shell.execute_reply.started": "2021-08-04T22:08:20.448358Z"
    },
    "papermill": {
     "duration": 0.050384,
     "end_time": "2021-08-04T22:11:48.464468",
     "exception": false,
     "start_time": "2021-08-04T22:11:48.414084",
     "status": "completed"
    },
    "tags": []
   },
   "outputs": [
    {
     "data": {
      "text/plain": [
       "Index(['Time', 'V1', 'V2', 'V3', 'V4', 'V5', 'V6', 'V7', 'V8', 'V9', 'V10',\n",
       "       'V11', 'V12', 'V13', 'V14', 'V15', 'V16', 'V17', 'V18', 'V19', 'V20',\n",
       "       'V21', 'V22', 'V23', 'V24', 'V25', 'V26', 'V27', 'V28', 'Amount',\n",
       "       'Class'],\n",
       "      dtype='object')"
      ]
     },
     "execution_count": 4,
     "metadata": {},
     "output_type": "execute_result"
    }
   ],
   "source": [
    "df.columns"
   ]
  },
  {
   "cell_type": "code",
   "execution_count": 5,
   "metadata": {
    "execution": {
     "iopub.execute_input": "2021-08-04T22:11:48.585590Z",
     "iopub.status.busy": "2021-08-04T22:11:48.546856Z",
     "iopub.status.idle": "2021-08-04T22:11:49.032623Z",
     "shell.execute_reply": "2021-08-04T22:11:49.031744Z",
     "shell.execute_reply.started": "2021-08-04T22:08:20.455689Z"
    },
    "papermill": {
     "duration": 0.528405,
     "end_time": "2021-08-04T22:11:49.032785",
     "exception": false,
     "start_time": "2021-08-04T22:11:48.504380",
     "status": "completed"
    },
    "tags": []
   },
   "outputs": [
    {
     "data": {
      "text/html": [
       "<div>\n",
       "<style scoped>\n",
       "    .dataframe tbody tr th:only-of-type {\n",
       "        vertical-align: middle;\n",
       "    }\n",
       "\n",
       "    .dataframe tbody tr th {\n",
       "        vertical-align: top;\n",
       "    }\n",
       "\n",
       "    .dataframe thead th {\n",
       "        text-align: right;\n",
       "    }\n",
       "</style>\n",
       "<table border=\"1\" class=\"dataframe\">\n",
       "  <thead>\n",
       "    <tr style=\"text-align: right;\">\n",
       "      <th></th>\n",
       "      <th>Time</th>\n",
       "      <th>V1</th>\n",
       "      <th>V2</th>\n",
       "      <th>V3</th>\n",
       "      <th>V4</th>\n",
       "      <th>V5</th>\n",
       "      <th>V6</th>\n",
       "      <th>V7</th>\n",
       "      <th>V8</th>\n",
       "      <th>V9</th>\n",
       "      <th>...</th>\n",
       "      <th>V21</th>\n",
       "      <th>V22</th>\n",
       "      <th>V23</th>\n",
       "      <th>V24</th>\n",
       "      <th>V25</th>\n",
       "      <th>V26</th>\n",
       "      <th>V27</th>\n",
       "      <th>V28</th>\n",
       "      <th>Amount</th>\n",
       "      <th>Class</th>\n",
       "    </tr>\n",
       "  </thead>\n",
       "  <tbody>\n",
       "    <tr>\n",
       "      <th>count</th>\n",
       "      <td>284807.000000</td>\n",
       "      <td>2.848070e+05</td>\n",
       "      <td>2.848070e+05</td>\n",
       "      <td>2.848070e+05</td>\n",
       "      <td>2.848070e+05</td>\n",
       "      <td>2.848070e+05</td>\n",
       "      <td>2.848070e+05</td>\n",
       "      <td>2.848070e+05</td>\n",
       "      <td>2.848070e+05</td>\n",
       "      <td>2.848070e+05</td>\n",
       "      <td>...</td>\n",
       "      <td>2.848070e+05</td>\n",
       "      <td>2.848070e+05</td>\n",
       "      <td>2.848070e+05</td>\n",
       "      <td>2.848070e+05</td>\n",
       "      <td>2.848070e+05</td>\n",
       "      <td>2.848070e+05</td>\n",
       "      <td>2.848070e+05</td>\n",
       "      <td>2.848070e+05</td>\n",
       "      <td>284807.000000</td>\n",
       "      <td>284807.000000</td>\n",
       "    </tr>\n",
       "    <tr>\n",
       "      <th>mean</th>\n",
       "      <td>94813.859575</td>\n",
       "      <td>3.918649e-15</td>\n",
       "      <td>5.682686e-16</td>\n",
       "      <td>-8.761736e-15</td>\n",
       "      <td>2.811118e-15</td>\n",
       "      <td>-1.552103e-15</td>\n",
       "      <td>2.040130e-15</td>\n",
       "      <td>-1.698953e-15</td>\n",
       "      <td>-1.893285e-16</td>\n",
       "      <td>-3.147640e-15</td>\n",
       "      <td>...</td>\n",
       "      <td>1.473120e-16</td>\n",
       "      <td>8.042109e-16</td>\n",
       "      <td>5.282512e-16</td>\n",
       "      <td>4.456271e-15</td>\n",
       "      <td>1.426896e-15</td>\n",
       "      <td>1.701640e-15</td>\n",
       "      <td>-3.662252e-16</td>\n",
       "      <td>-1.217809e-16</td>\n",
       "      <td>88.349619</td>\n",
       "      <td>0.001727</td>\n",
       "    </tr>\n",
       "    <tr>\n",
       "      <th>std</th>\n",
       "      <td>47488.145955</td>\n",
       "      <td>1.958696e+00</td>\n",
       "      <td>1.651309e+00</td>\n",
       "      <td>1.516255e+00</td>\n",
       "      <td>1.415869e+00</td>\n",
       "      <td>1.380247e+00</td>\n",
       "      <td>1.332271e+00</td>\n",
       "      <td>1.237094e+00</td>\n",
       "      <td>1.194353e+00</td>\n",
       "      <td>1.098632e+00</td>\n",
       "      <td>...</td>\n",
       "      <td>7.345240e-01</td>\n",
       "      <td>7.257016e-01</td>\n",
       "      <td>6.244603e-01</td>\n",
       "      <td>6.056471e-01</td>\n",
       "      <td>5.212781e-01</td>\n",
       "      <td>4.822270e-01</td>\n",
       "      <td>4.036325e-01</td>\n",
       "      <td>3.300833e-01</td>\n",
       "      <td>250.120109</td>\n",
       "      <td>0.041527</td>\n",
       "    </tr>\n",
       "    <tr>\n",
       "      <th>min</th>\n",
       "      <td>0.000000</td>\n",
       "      <td>-5.640751e+01</td>\n",
       "      <td>-7.271573e+01</td>\n",
       "      <td>-4.832559e+01</td>\n",
       "      <td>-5.683171e+00</td>\n",
       "      <td>-1.137433e+02</td>\n",
       "      <td>-2.616051e+01</td>\n",
       "      <td>-4.355724e+01</td>\n",
       "      <td>-7.321672e+01</td>\n",
       "      <td>-1.343407e+01</td>\n",
       "      <td>...</td>\n",
       "      <td>-3.483038e+01</td>\n",
       "      <td>-1.093314e+01</td>\n",
       "      <td>-4.480774e+01</td>\n",
       "      <td>-2.836627e+00</td>\n",
       "      <td>-1.029540e+01</td>\n",
       "      <td>-2.604551e+00</td>\n",
       "      <td>-2.256568e+01</td>\n",
       "      <td>-1.543008e+01</td>\n",
       "      <td>0.000000</td>\n",
       "      <td>0.000000</td>\n",
       "    </tr>\n",
       "    <tr>\n",
       "      <th>25%</th>\n",
       "      <td>54201.500000</td>\n",
       "      <td>-9.203734e-01</td>\n",
       "      <td>-5.985499e-01</td>\n",
       "      <td>-8.903648e-01</td>\n",
       "      <td>-8.486401e-01</td>\n",
       "      <td>-6.915971e-01</td>\n",
       "      <td>-7.682956e-01</td>\n",
       "      <td>-5.540759e-01</td>\n",
       "      <td>-2.086297e-01</td>\n",
       "      <td>-6.430976e-01</td>\n",
       "      <td>...</td>\n",
       "      <td>-2.283949e-01</td>\n",
       "      <td>-5.423504e-01</td>\n",
       "      <td>-1.618463e-01</td>\n",
       "      <td>-3.545861e-01</td>\n",
       "      <td>-3.171451e-01</td>\n",
       "      <td>-3.269839e-01</td>\n",
       "      <td>-7.083953e-02</td>\n",
       "      <td>-5.295979e-02</td>\n",
       "      <td>5.600000</td>\n",
       "      <td>0.000000</td>\n",
       "    </tr>\n",
       "    <tr>\n",
       "      <th>50%</th>\n",
       "      <td>84692.000000</td>\n",
       "      <td>1.810880e-02</td>\n",
       "      <td>6.548556e-02</td>\n",
       "      <td>1.798463e-01</td>\n",
       "      <td>-1.984653e-02</td>\n",
       "      <td>-5.433583e-02</td>\n",
       "      <td>-2.741871e-01</td>\n",
       "      <td>4.010308e-02</td>\n",
       "      <td>2.235804e-02</td>\n",
       "      <td>-5.142873e-02</td>\n",
       "      <td>...</td>\n",
       "      <td>-2.945017e-02</td>\n",
       "      <td>6.781943e-03</td>\n",
       "      <td>-1.119293e-02</td>\n",
       "      <td>4.097606e-02</td>\n",
       "      <td>1.659350e-02</td>\n",
       "      <td>-5.213911e-02</td>\n",
       "      <td>1.342146e-03</td>\n",
       "      <td>1.124383e-02</td>\n",
       "      <td>22.000000</td>\n",
       "      <td>0.000000</td>\n",
       "    </tr>\n",
       "    <tr>\n",
       "      <th>75%</th>\n",
       "      <td>139320.500000</td>\n",
       "      <td>1.315642e+00</td>\n",
       "      <td>8.037239e-01</td>\n",
       "      <td>1.027196e+00</td>\n",
       "      <td>7.433413e-01</td>\n",
       "      <td>6.119264e-01</td>\n",
       "      <td>3.985649e-01</td>\n",
       "      <td>5.704361e-01</td>\n",
       "      <td>3.273459e-01</td>\n",
       "      <td>5.971390e-01</td>\n",
       "      <td>...</td>\n",
       "      <td>1.863772e-01</td>\n",
       "      <td>5.285536e-01</td>\n",
       "      <td>1.476421e-01</td>\n",
       "      <td>4.395266e-01</td>\n",
       "      <td>3.507156e-01</td>\n",
       "      <td>2.409522e-01</td>\n",
       "      <td>9.104512e-02</td>\n",
       "      <td>7.827995e-02</td>\n",
       "      <td>77.165000</td>\n",
       "      <td>0.000000</td>\n",
       "    </tr>\n",
       "    <tr>\n",
       "      <th>max</th>\n",
       "      <td>172792.000000</td>\n",
       "      <td>2.454930e+00</td>\n",
       "      <td>2.205773e+01</td>\n",
       "      <td>9.382558e+00</td>\n",
       "      <td>1.687534e+01</td>\n",
       "      <td>3.480167e+01</td>\n",
       "      <td>7.330163e+01</td>\n",
       "      <td>1.205895e+02</td>\n",
       "      <td>2.000721e+01</td>\n",
       "      <td>1.559499e+01</td>\n",
       "      <td>...</td>\n",
       "      <td>2.720284e+01</td>\n",
       "      <td>1.050309e+01</td>\n",
       "      <td>2.252841e+01</td>\n",
       "      <td>4.584549e+00</td>\n",
       "      <td>7.519589e+00</td>\n",
       "      <td>3.517346e+00</td>\n",
       "      <td>3.161220e+01</td>\n",
       "      <td>3.384781e+01</td>\n",
       "      <td>25691.160000</td>\n",
       "      <td>1.000000</td>\n",
       "    </tr>\n",
       "  </tbody>\n",
       "</table>\n",
       "<p>8 rows × 31 columns</p>\n",
       "</div>"
      ],
      "text/plain": [
       "                Time            V1            V2            V3            V4  \\\n",
       "count  284807.000000  2.848070e+05  2.848070e+05  2.848070e+05  2.848070e+05   \n",
       "mean    94813.859575  3.918649e-15  5.682686e-16 -8.761736e-15  2.811118e-15   \n",
       "std     47488.145955  1.958696e+00  1.651309e+00  1.516255e+00  1.415869e+00   \n",
       "min         0.000000 -5.640751e+01 -7.271573e+01 -4.832559e+01 -5.683171e+00   \n",
       "25%     54201.500000 -9.203734e-01 -5.985499e-01 -8.903648e-01 -8.486401e-01   \n",
       "50%     84692.000000  1.810880e-02  6.548556e-02  1.798463e-01 -1.984653e-02   \n",
       "75%    139320.500000  1.315642e+00  8.037239e-01  1.027196e+00  7.433413e-01   \n",
       "max    172792.000000  2.454930e+00  2.205773e+01  9.382558e+00  1.687534e+01   \n",
       "\n",
       "                 V5            V6            V7            V8            V9  \\\n",
       "count  2.848070e+05  2.848070e+05  2.848070e+05  2.848070e+05  2.848070e+05   \n",
       "mean  -1.552103e-15  2.040130e-15 -1.698953e-15 -1.893285e-16 -3.147640e-15   \n",
       "std    1.380247e+00  1.332271e+00  1.237094e+00  1.194353e+00  1.098632e+00   \n",
       "min   -1.137433e+02 -2.616051e+01 -4.355724e+01 -7.321672e+01 -1.343407e+01   \n",
       "25%   -6.915971e-01 -7.682956e-01 -5.540759e-01 -2.086297e-01 -6.430976e-01   \n",
       "50%   -5.433583e-02 -2.741871e-01  4.010308e-02  2.235804e-02 -5.142873e-02   \n",
       "75%    6.119264e-01  3.985649e-01  5.704361e-01  3.273459e-01  5.971390e-01   \n",
       "max    3.480167e+01  7.330163e+01  1.205895e+02  2.000721e+01  1.559499e+01   \n",
       "\n",
       "       ...           V21           V22           V23           V24  \\\n",
       "count  ...  2.848070e+05  2.848070e+05  2.848070e+05  2.848070e+05   \n",
       "mean   ...  1.473120e-16  8.042109e-16  5.282512e-16  4.456271e-15   \n",
       "std    ...  7.345240e-01  7.257016e-01  6.244603e-01  6.056471e-01   \n",
       "min    ... -3.483038e+01 -1.093314e+01 -4.480774e+01 -2.836627e+00   \n",
       "25%    ... -2.283949e-01 -5.423504e-01 -1.618463e-01 -3.545861e-01   \n",
       "50%    ... -2.945017e-02  6.781943e-03 -1.119293e-02  4.097606e-02   \n",
       "75%    ...  1.863772e-01  5.285536e-01  1.476421e-01  4.395266e-01   \n",
       "max    ...  2.720284e+01  1.050309e+01  2.252841e+01  4.584549e+00   \n",
       "\n",
       "                V25           V26           V27           V28         Amount  \\\n",
       "count  2.848070e+05  2.848070e+05  2.848070e+05  2.848070e+05  284807.000000   \n",
       "mean   1.426896e-15  1.701640e-15 -3.662252e-16 -1.217809e-16      88.349619   \n",
       "std    5.212781e-01  4.822270e-01  4.036325e-01  3.300833e-01     250.120109   \n",
       "min   -1.029540e+01 -2.604551e+00 -2.256568e+01 -1.543008e+01       0.000000   \n",
       "25%   -3.171451e-01 -3.269839e-01 -7.083953e-02 -5.295979e-02       5.600000   \n",
       "50%    1.659350e-02 -5.213911e-02  1.342146e-03  1.124383e-02      22.000000   \n",
       "75%    3.507156e-01  2.409522e-01  9.104512e-02  7.827995e-02      77.165000   \n",
       "max    7.519589e+00  3.517346e+00  3.161220e+01  3.384781e+01   25691.160000   \n",
       "\n",
       "               Class  \n",
       "count  284807.000000  \n",
       "mean        0.001727  \n",
       "std         0.041527  \n",
       "min         0.000000  \n",
       "25%         0.000000  \n",
       "50%         0.000000  \n",
       "75%         0.000000  \n",
       "max         1.000000  \n",
       "\n",
       "[8 rows x 31 columns]"
      ]
     },
     "execution_count": 5,
     "metadata": {},
     "output_type": "execute_result"
    }
   ],
   "source": [
    "df.describe()"
   ]
  },
  {
   "cell_type": "code",
   "execution_count": 6,
   "metadata": {
    "execution": {
     "iopub.execute_input": "2021-08-04T22:11:49.116299Z",
     "iopub.status.busy": "2021-08-04T22:11:49.115566Z",
     "iopub.status.idle": "2021-08-04T22:11:49.144335Z",
     "shell.execute_reply": "2021-08-04T22:11:49.143727Z",
     "shell.execute_reply.started": "2021-08-04T22:08:20.876457Z"
    },
    "papermill": {
     "duration": 0.071716,
     "end_time": "2021-08-04T22:11:49.144491",
     "exception": false,
     "start_time": "2021-08-04T22:11:49.072775",
     "status": "completed"
    },
    "tags": []
   },
   "outputs": [
    {
     "data": {
      "text/plain": [
       "Time      0\n",
       "V1        0\n",
       "V2        0\n",
       "V3        0\n",
       "V4        0\n",
       "V5        0\n",
       "V6        0\n",
       "V7        0\n",
       "V8        0\n",
       "V9        0\n",
       "V10       0\n",
       "V11       0\n",
       "V12       0\n",
       "V13       0\n",
       "V14       0\n",
       "V15       0\n",
       "V16       0\n",
       "V17       0\n",
       "V18       0\n",
       "V19       0\n",
       "V20       0\n",
       "V21       0\n",
       "V22       0\n",
       "V23       0\n",
       "V24       0\n",
       "V25       0\n",
       "V26       0\n",
       "V27       0\n",
       "V28       0\n",
       "Amount    0\n",
       "Class     0\n",
       "dtype: int64"
      ]
     },
     "execution_count": 6,
     "metadata": {},
     "output_type": "execute_result"
    }
   ],
   "source": [
    "df.isnull().sum()\n",
    "#There is no missing values"
   ]
  },
  {
   "cell_type": "code",
   "execution_count": 7,
   "metadata": {
    "execution": {
     "iopub.execute_input": "2021-08-04T22:11:49.229052Z",
     "iopub.status.busy": "2021-08-04T22:11:49.228362Z",
     "iopub.status.idle": "2021-08-04T22:11:49.238588Z",
     "shell.execute_reply": "2021-08-04T22:11:49.237955Z",
     "shell.execute_reply.started": "2021-08-04T22:08:20.902429Z"
    },
    "papermill": {
     "duration": 0.054353,
     "end_time": "2021-08-04T22:11:49.238750",
     "exception": false,
     "start_time": "2021-08-04T22:11:49.184397",
     "status": "completed"
    },
    "tags": []
   },
   "outputs": [
    {
     "data": {
      "text/plain": [
       "0    284315\n",
       "1       492\n",
       "Name: Class, dtype: int64"
      ]
     },
     "execution_count": 7,
     "metadata": {},
     "output_type": "execute_result"
    }
   ],
   "source": [
    "# As we see there is much inbalace in our data  \n",
    "df['Class'].value_counts()"
   ]
  },
  {
   "cell_type": "code",
   "execution_count": 8,
   "metadata": {
    "execution": {
     "iopub.execute_input": "2021-08-04T22:11:49.324458Z",
     "iopub.status.busy": "2021-08-04T22:11:49.323765Z",
     "iopub.status.idle": "2021-08-04T22:11:49.336680Z",
     "shell.execute_reply": "2021-08-04T22:11:49.337196Z",
     "shell.execute_reply.started": "2021-08-04T22:08:20.914658Z"
    },
    "papermill": {
     "duration": 0.059779,
     "end_time": "2021-08-04T22:11:49.337396",
     "exception": false,
     "start_time": "2021-08-04T22:11:49.277617",
     "status": "completed"
    },
    "tags": []
   },
   "outputs": [
    {
     "name": "stdout",
     "output_type": "stream",
     "text": [
      "No Frauds 99.83 % of the dataset\n",
      "Frauds 0.17 % of the dataset\n"
     ]
    }
   ],
   "source": [
    "# The classes are heavily skewed we need to solve this issue later.\n",
    "print('No Frauds', round(df['Class'].value_counts()[0]/len(df) * 100,2), '% of the dataset')\n",
    "print('Frauds', round(df['Class'].value_counts()[1]/len(df) * 100,2), '% of the dataset')"
   ]
  },
  {
   "cell_type": "code",
   "execution_count": 9,
   "metadata": {
    "execution": {
     "iopub.execute_input": "2021-08-04T22:11:49.423571Z",
     "iopub.status.busy": "2021-08-04T22:11:49.422379Z",
     "iopub.status.idle": "2021-08-04T22:11:49.612826Z",
     "shell.execute_reply": "2021-08-04T22:11:49.612087Z",
     "shell.execute_reply.started": "2021-08-04T22:08:20.932811Z"
    },
    "papermill": {
     "duration": 0.237176,
     "end_time": "2021-08-04T22:11:49.612990",
     "exception": false,
     "start_time": "2021-08-04T22:11:49.375814",
     "status": "completed"
    },
    "scrolled": true,
    "tags": []
   },
   "outputs": [
    {
     "data": {
      "image/png": "[encoded data removed]",
      "text/plain": [
       "<Figure size 432x288 with 1 Axes>"
      ]
     },
     "metadata": {
      "needs_background": "light"
     },
     "output_type": "display_data"
    }
   ],
   "source": [
    "sns.countplot(x='Class', data=df);"
   ]
  },
  {
   "cell_type": "markdown",
   "metadata": {
    "papermill": {
     "duration": 0.041398,
     "end_time": "2021-08-04T22:11:49.696465",
     "exception": false,
     "start_time": "2021-08-04T22:11:49.655067",
     "status": "completed"
    },
    "tags": []
   },
   "source": [
    "We need to fix this imbalace problem as if trained our model with the current issue in Class the model will predict that all will be not fraud"
   ]
  },
  {
   "cell_type": "code",
   "execution_count": 10,
   "metadata": {
    "execution": {
     "iopub.execute_input": "2021-08-04T22:11:49.808155Z",
     "iopub.status.busy": "2021-08-04T22:11:49.807031Z",
     "iopub.status.idle": "2021-08-04T22:11:50.354577Z",
     "shell.execute_reply": "2021-08-04T22:11:50.353980Z",
     "shell.execute_reply.started": "2021-08-04T22:08:21.087874Z"
    },
    "papermill": {
     "duration": 0.616432,
     "end_time": "2021-08-04T22:11:50.354741",
     "exception": false,
     "start_time": "2021-08-04T22:11:49.738309",
     "status": "completed"
    },
    "tags": []
   },
   "outputs": [
    {
     "data": {
      "image/png": "[encoded data removed]",
      "text/plain": [
       "<Figure size 864x432 with 2 Axes>"
      ]
     },
     "metadata": {
      "needs_background": "light"
     },
     "output_type": "display_data"
    }
   ],
   "source": [
    "fig, (ax1, ax2) = plt.subplots(ncols=2, figsize=(12,6))\n",
    "s = sns.boxplot(ax = ax1, x=\"Class\", y=\"Amount\", hue=\"Class\",data=df, palette=\"PRGn\",showfliers=True)\n",
    "s = sns.boxplot(ax = ax2, x=\"Class\", y=\"Amount\", hue=\"Class\",data=df, palette=\"PRGn\",showfliers=False)\n",
    "plt.suptitle(\"Average Amount of Each class\")\n",
    "plt.show();"
   ]
  },
  {
   "cell_type": "code",
   "execution_count": 11,
   "metadata": {
    "execution": {
     "iopub.execute_input": "2021-08-04T22:11:50.447525Z",
     "iopub.status.busy": "2021-08-04T22:11:50.446420Z",
     "iopub.status.idle": "2021-08-04T22:11:50.462034Z",
     "shell.execute_reply": "2021-08-04T22:11:50.462515Z",
     "shell.execute_reply.started": "2021-08-04T22:08:21.552942Z"
    },
    "papermill": {
     "duration": 0.065825,
     "end_time": "2021-08-04T22:11:50.462713",
     "exception": false,
     "start_time": "2021-08-04T22:11:50.396888",
     "status": "completed"
    },
    "tags": []
   },
   "outputs": [],
   "source": [
    "tmp = df[['Amount','Class']].copy()\n",
    "class_0 = tmp.loc[tmp['Class'] == 0]['Amount']\n",
    "class_1 = tmp.loc[tmp['Class'] == 1]['Amount']"
   ]
  },
  {
   "cell_type": "code",
   "execution_count": 12,
   "metadata": {
    "execution": {
     "iopub.execute_input": "2021-08-04T22:11:50.550312Z",
     "iopub.status.busy": "2021-08-04T22:11:50.549284Z",
     "iopub.status.idle": "2021-08-04T22:11:50.570476Z",
     "shell.execute_reply": "2021-08-04T22:11:50.570979Z",
     "shell.execute_reply.started": "2021-08-04T22:08:21.576054Z"
    },
    "papermill": {
     "duration": 0.067713,
     "end_time": "2021-08-04T22:11:50.571181",
     "exception": false,
     "start_time": "2021-08-04T22:11:50.503468",
     "status": "completed"
    },
    "tags": []
   },
   "outputs": [
    {
     "data": {
      "text/plain": [
       "count    284315.000000\n",
       "mean         88.291022\n",
       "std         250.105092\n",
       "min           0.000000\n",
       "25%           5.650000\n",
       "50%          22.000000\n",
       "75%          77.050000\n",
       "max       25691.160000\n",
       "Name: Amount, dtype: float64"
      ]
     },
     "execution_count": 12,
     "metadata": {},
     "output_type": "execute_result"
    }
   ],
   "source": [
    "class_0.describe()"
   ]
  },
  {
   "cell_type": "code",
   "execution_count": 13,
   "metadata": {
    "execution": {
     "iopub.execute_input": "2021-08-04T22:11:50.666513Z",
     "iopub.status.busy": "2021-08-04T22:11:50.665548Z",
     "iopub.status.idle": "2021-08-04T22:11:50.671630Z",
     "shell.execute_reply": "2021-08-04T22:11:50.670860Z",
     "shell.execute_reply.started": "2021-08-04T22:08:21.602322Z"
    },
    "papermill": {
     "duration": 0.057378,
     "end_time": "2021-08-04T22:11:50.671806",
     "exception": false,
     "start_time": "2021-08-04T22:11:50.614428",
     "status": "completed"
    },
    "tags": []
   },
   "outputs": [
    {
     "data": {
      "text/plain": [
       "count     492.000000\n",
       "mean      122.211321\n",
       "std       256.683288\n",
       "min         0.000000\n",
       "25%         1.000000\n",
       "50%         9.250000\n",
       "75%       105.890000\n",
       "max      2125.870000\n",
       "Name: Amount, dtype: float64"
      ]
     },
     "execution_count": 13,
     "metadata": {},
     "output_type": "execute_result"
    }
   ],
   "source": [
    "class_1.describe()"
   ]
  },
  {
   "cell_type": "markdown",
   "metadata": {
    "papermill": {
     "duration": 0.041703,
     "end_time": "2021-08-04T22:11:50.756797",
     "exception": false,
     "start_time": "2021-08-04T22:11:50.715094",
     "status": "completed"
    },
    "tags": []
   },
   "source": [
    "We can see that the real transaction have a larger mean value, larger Q1 and Q2, smaller Q4 and larger outliers; fraudulent transactions have a smaller Q1 and mean, larger Q4 and smaller outlier"
   ]
  },
  {
   "cell_type": "code",
   "execution_count": 14,
   "metadata": {
    "execution": {
     "iopub.execute_input": "2021-08-04T22:11:50.897592Z",
     "iopub.status.busy": "2021-08-04T22:11:50.869463Z",
     "iopub.status.idle": "2021-08-04T22:11:54.463520Z",
     "shell.execute_reply": "2021-08-04T22:11:54.462904Z",
     "shell.execute_reply.started": "2021-08-04T22:08:21.614872Z"
    },
    "papermill": {
     "duration": 3.663448,
     "end_time": "2021-08-04T22:11:54.463709",
     "exception": false,
     "start_time": "2021-08-04T22:11:50.800261",
     "status": "completed"
    },
    "tags": []
   },
   "outputs": [
    {
     "data": {
      "image/png": "[encoded data removed]",
      "text/plain": [
       "<Figure size 1296x288 with 2 Axes>"
      ]
     },
     "metadata": {
      "needs_background": "light"
     },
     "output_type": "display_data"
    }
   ],
   "source": [
    "fig, ax = plt.subplots(1, 2, figsize=(18,4))\n",
    "\n",
    "amount_val = df['Amount'].values\n",
    "time_val = df['Time'].values\n",
    "\n",
    "sns.distplot(amount_val, ax=ax[0], color='r')\n",
    "ax[0].set_title('Distribution of Transaction Amount', fontsize=14)\n",
    "ax[0].set_xlim([min(amount_val), max(amount_val)])\n",
    "\n",
    "sns.distplot(time_val, ax=ax[1], color='b')\n",
    "ax[1].set_title('Distribution of Transaction Time', fontsize=14)\n",
    "ax[1].set_xlim([min(time_val), max(time_val)]);"
   ]
  },
  {
   "cell_type": "code",
   "execution_count": 15,
   "metadata": {
    "execution": {
     "iopub.execute_input": "2021-08-04T22:11:54.697632Z",
     "iopub.status.busy": "2021-08-04T22:11:54.696585Z",
     "iopub.status.idle": "2021-08-04T22:11:56.319770Z",
     "shell.execute_reply": "2021-08-04T22:11:56.318987Z",
     "shell.execute_reply.started": "2021-08-04T22:08:24.883951Z"
    },
    "papermill": {
     "duration": 1.811801,
     "end_time": "2021-08-04T22:11:56.319923",
     "exception": false,
     "start_time": "2021-08-04T22:11:54.508122",
     "status": "completed"
    },
    "tags": []
   },
   "outputs": [
    {
     "data": {
      "image/png": "[encoded data removed]",
      "text/plain": [
       "<Figure size 1008x1008 with 2 Axes>"
      ]
     },
     "metadata": {
      "needs_background": "light"
     },
     "output_type": "display_data"
    }
   ],
   "source": [
    "plt.figure(figsize = (14,14))\n",
    "plt.title('Transactions features correlation')\n",
    "corr = df.corr()\n",
    "sns.heatmap(corr,xticklabels=corr.columns,yticklabels=corr.columns,linewidths=.1,cmap=\"Reds\")\n",
    "plt.show()"
   ]
  },
  {
   "cell_type": "markdown",
   "metadata": {
    "papermill": {
     "duration": 0.051695,
     "end_time": "2021-08-04T22:11:56.422284",
     "exception": false,
     "start_time": "2021-08-04T22:11:56.370589",
     "status": "completed"
    },
    "tags": []
   },
   "source": [
    "there is no notable correlation between features V1-V28\n",
    "There are certain correlations between some of these features and time(inverse correlation with V3) and Amount (direct correlation with V7 and V20, inverse correlation with V1 and V5)."
   ]
  },
  {
   "cell_type": "markdown",
   "metadata": {
    "papermill": {
     "duration": 0.049753,
     "end_time": "2021-08-04T22:11:56.523609",
     "exception": false,
     "start_time": "2021-08-04T22:11:56.473856",
     "status": "completed"
    },
    "tags": []
   },
   "source": [
    "# Scaling and Sampling"
   ]
  },
  {
   "cell_type": "markdown",
   "metadata": {
    "papermill": {
     "duration": 0.044603,
     "end_time": "2021-08-04T22:11:56.617476",
     "exception": false,
     "start_time": "2021-08-04T22:11:56.572873",
     "status": "completed"
    },
    "tags": []
   },
   "source": [
    "- Why we use sampling ?\n",
    "\n",
    "if we train model with current imbalance it won't give us good accuracy as it is very biased to non fraud transactions\n",
    "- Overfitting: Our classification models will assume that in most cases there are no frauds! What we want for our model is to be certain when a fraud occurs.\n",
    "- Wrong Correlations: Although we don't know what the \"V\" features stand for, it will be useful to understand how each of this features influence the result (Fraud or No Fraud) by having an imbalance dataframe we are not able to see the true correlations between the class and features.\n",
    "\n",
    "our subsample will be a dataframe with a 50/50 ratio of fraud and non-fraud transactions. Meaning our sub-sample will have the same amount of fraud and non fraud transactions.\n",
    "we will scale Amount and Time "
   ]
  },
  {
   "cell_type": "code",
   "execution_count": 16,
   "metadata": {
    "execution": {
     "iopub.execute_input": "2021-08-04T22:11:56.717865Z",
     "iopub.status.busy": "2021-08-04T22:11:56.717180Z",
     "iopub.status.idle": "2021-08-04T22:11:56.978428Z",
     "shell.execute_reply": "2021-08-04T22:11:56.977837Z",
     "shell.execute_reply.started": "2021-08-04T22:08:26.407069Z"
    },
    "papermill": {
     "duration": 0.31245,
     "end_time": "2021-08-04T22:11:56.978590",
     "exception": false,
     "start_time": "2021-08-04T22:11:56.666140",
     "status": "completed"
    },
    "tags": []
   },
   "outputs": [],
   "source": [
    "from sklearn.preprocessing import StandardScaler, RobustScaler\n",
    "# Will choose Robust as it's less prone to outliers\n",
    " \n",
    "rob_scaler = RobustScaler()\n",
    "df['scaled_amount'] = rob_scaler.fit_transform(df['Amount'].values.reshape(-1, 1))\n",
    "df['scaled_time'] = rob_scaler.fit_transform(df['Time'].values.reshape(-1, 1))\n",
    "\n",
    "df.drop(['Time','Amount'], axis=1, inplace=True)"
   ]
  },
  {
   "cell_type": "code",
   "execution_count": 17,
   "metadata": {
    "execution": {
     "iopub.execute_input": "2021-08-04T22:11:57.089192Z",
     "iopub.status.busy": "2021-08-04T22:11:57.088457Z",
     "iopub.status.idle": "2021-08-04T22:11:57.106589Z",
     "shell.execute_reply": "2021-08-04T22:11:57.105858Z",
     "shell.execute_reply.started": "2021-08-04T22:08:26.637839Z"
    },
    "papermill": {
     "duration": 0.082549,
     "end_time": "2021-08-04T22:11:57.106898",
     "exception": false,
     "start_time": "2021-08-04T22:11:57.024349",
     "status": "completed"
    },
    "scrolled": true,
    "tags": []
   },
   "outputs": [
    {
     "data": {
      "text/html": [
       "<div>\n",
       "<style scoped>\n",
       "    .dataframe tbody tr th:only-of-type {\n",
       "        vertical-align: middle;\n",
       "    }\n",
       "\n",
       "    .dataframe tbody tr th {\n",
       "        vertical-align: top;\n",
       "    }\n",
       "\n",
       "    .dataframe thead th {\n",
       "        text-align: right;\n",
       "    }\n",
       "</style>\n",
       "<table border=\"1\" class=\"dataframe\">\n",
       "  <thead>\n",
       "    <tr style=\"text-align: right;\">\n",
       "      <th></th>\n",
       "      <th>V1</th>\n",
       "      <th>V2</th>\n",
       "      <th>V3</th>\n",
       "      <th>V4</th>\n",
       "      <th>V5</th>\n",
       "      <th>V6</th>\n",
       "      <th>V7</th>\n",
       "      <th>V8</th>\n",
       "      <th>V9</th>\n",
       "      <th>V10</th>\n",
       "      <th>...</th>\n",
       "      <th>V22</th>\n",
       "      <th>V23</th>\n",
       "      <th>V24</th>\n",
       "      <th>V25</th>\n",
       "      <th>V26</th>\n",
       "      <th>V27</th>\n",
       "      <th>V28</th>\n",
       "      <th>Class</th>\n",
       "      <th>scaled_amount</th>\n",
       "      <th>scaled_time</th>\n",
       "    </tr>\n",
       "  </thead>\n",
       "  <tbody>\n",
       "    <tr>\n",
       "      <th>0</th>\n",
       "      <td>-1.359807</td>\n",
       "      <td>-0.072781</td>\n",
       "      <td>2.536347</td>\n",
       "      <td>1.378155</td>\n",
       "      <td>-0.338321</td>\n",
       "      <td>0.462388</td>\n",
       "      <td>0.239599</td>\n",
       "      <td>0.098698</td>\n",
       "      <td>0.363787</td>\n",
       "      <td>0.090794</td>\n",
       "      <td>...</td>\n",
       "      <td>0.277838</td>\n",
       "      <td>-0.110474</td>\n",
       "      <td>0.066928</td>\n",
       "      <td>0.128539</td>\n",
       "      <td>-0.189115</td>\n",
       "      <td>0.133558</td>\n",
       "      <td>-0.021053</td>\n",
       "      <td>0</td>\n",
       "      <td>1.783274</td>\n",
       "      <td>-0.994983</td>\n",
       "    </tr>\n",
       "    <tr>\n",
       "      <th>1</th>\n",
       "      <td>1.191857</td>\n",
       "      <td>0.266151</td>\n",
       "      <td>0.166480</td>\n",
       "      <td>0.448154</td>\n",
       "      <td>0.060018</td>\n",
       "      <td>-0.082361</td>\n",
       "      <td>-0.078803</td>\n",
       "      <td>0.085102</td>\n",
       "      <td>-0.255425</td>\n",
       "      <td>-0.166974</td>\n",
       "      <td>...</td>\n",
       "      <td>-0.638672</td>\n",
       "      <td>0.101288</td>\n",
       "      <td>-0.339846</td>\n",
       "      <td>0.167170</td>\n",
       "      <td>0.125895</td>\n",
       "      <td>-0.008983</td>\n",
       "      <td>0.014724</td>\n",
       "      <td>0</td>\n",
       "      <td>-0.269825</td>\n",
       "      <td>-0.994983</td>\n",
       "    </tr>\n",
       "    <tr>\n",
       "      <th>2</th>\n",
       "      <td>-1.358354</td>\n",
       "      <td>-1.340163</td>\n",
       "      <td>1.773209</td>\n",
       "      <td>0.379780</td>\n",
       "      <td>-0.503198</td>\n",
       "      <td>1.800499</td>\n",
       "      <td>0.791461</td>\n",
       "      <td>0.247676</td>\n",
       "      <td>-1.514654</td>\n",
       "      <td>0.207643</td>\n",
       "      <td>...</td>\n",
       "      <td>0.771679</td>\n",
       "      <td>0.909412</td>\n",
       "      <td>-0.689281</td>\n",
       "      <td>-0.327642</td>\n",
       "      <td>-0.139097</td>\n",
       "      <td>-0.055353</td>\n",
       "      <td>-0.059752</td>\n",
       "      <td>0</td>\n",
       "      <td>4.983721</td>\n",
       "      <td>-0.994972</td>\n",
       "    </tr>\n",
       "    <tr>\n",
       "      <th>3</th>\n",
       "      <td>-0.966272</td>\n",
       "      <td>-0.185226</td>\n",
       "      <td>1.792993</td>\n",
       "      <td>-0.863291</td>\n",
       "      <td>-0.010309</td>\n",
       "      <td>1.247203</td>\n",
       "      <td>0.237609</td>\n",
       "      <td>0.377436</td>\n",
       "      <td>-1.387024</td>\n",
       "      <td>-0.054952</td>\n",
       "      <td>...</td>\n",
       "      <td>0.005274</td>\n",
       "      <td>-0.190321</td>\n",
       "      <td>-1.175575</td>\n",
       "      <td>0.647376</td>\n",
       "      <td>-0.221929</td>\n",
       "      <td>0.062723</td>\n",
       "      <td>0.061458</td>\n",
       "      <td>0</td>\n",
       "      <td>1.418291</td>\n",
       "      <td>-0.994972</td>\n",
       "    </tr>\n",
       "    <tr>\n",
       "      <th>4</th>\n",
       "      <td>-1.158233</td>\n",
       "      <td>0.877737</td>\n",
       "      <td>1.548718</td>\n",
       "      <td>0.403034</td>\n",
       "      <td>-0.407193</td>\n",
       "      <td>0.095921</td>\n",
       "      <td>0.592941</td>\n",
       "      <td>-0.270533</td>\n",
       "      <td>0.817739</td>\n",
       "      <td>0.753074</td>\n",
       "      <td>...</td>\n",
       "      <td>0.798278</td>\n",
       "      <td>-0.137458</td>\n",
       "      <td>0.141267</td>\n",
       "      <td>-0.206010</td>\n",
       "      <td>0.502292</td>\n",
       "      <td>0.219422</td>\n",
       "      <td>0.215153</td>\n",
       "      <td>0</td>\n",
       "      <td>0.670579</td>\n",
       "      <td>-0.994960</td>\n",
       "    </tr>\n",
       "  </tbody>\n",
       "</table>\n",
       "<p>5 rows × 31 columns</p>\n",
       "</div>"
      ],
      "text/plain": [
       "         V1        V2        V3        V4        V5        V6        V7  \\\n",
       "0 -1.359807 -0.072781  2.536347  1.378155 -0.338321  0.462388  0.239599   \n",
       "1  1.191857  0.266151  0.166480  0.448154  0.060018 -0.082361 -0.078803   \n",
       "2 -1.358354 -1.340163  1.773209  0.379780 -0.503198  1.800499  0.791461   \n",
       "3 -0.966272 -0.185226  1.792993 -0.863291 -0.010309  1.247203  0.237609   \n",
       "4 -1.158233  0.877737  1.548718  0.403034 -0.407193  0.095921  0.592941   \n",
       "\n",
       "         V8        V9       V10  ...       V22       V23       V24       V25  \\\n",
       "0  0.098698  0.363787  0.090794  ...  0.277838 -0.110474  0.066928  0.128539   \n",
       "1  0.085102 -0.255425 -0.166974  ... -0.638672  0.101288 -0.339846  0.167170   \n",
       "2  0.247676 -1.514654  0.207643  ...  0.771679  0.909412 -0.689281 -0.327642   \n",
       "3  0.377436 -1.387024 -0.054952  ...  0.005274 -0.190321 -1.175575  0.647376   \n",
       "4 -0.270533  0.817739  0.753074  ...  0.798278 -0.137458  0.141267 -0.206010   \n",
       "\n",
       "        V26       V27       V28  Class  scaled_amount  scaled_time  \n",
       "0 -0.189115  0.133558 -0.021053      0       1.783274    -0.994983  \n",
       "1  0.125895 -0.008983  0.014724      0      -0.269825    -0.994983  \n",
       "2 -0.139097 -0.055353 -0.059752      0       4.983721    -0.994972  \n",
       "3 -0.221929  0.062723  0.061458      0       1.418291    -0.994972  \n",
       "4  0.502292  0.219422  0.215153      0       0.670579    -0.994960  \n",
       "\n",
       "[5 rows x 31 columns]"
      ]
     },
     "execution_count": 17,
     "metadata": {},
     "output_type": "execute_result"
    }
   ],
   "source": [
    "df.head()"
   ]
  },
  {
   "cell_type": "code",
   "execution_count": 18,
   "metadata": {
    "execution": {
     "iopub.execute_input": "2021-08-04T22:11:57.236008Z",
     "iopub.status.busy": "2021-08-04T22:11:57.235316Z",
     "iopub.status.idle": "2021-08-04T22:11:57.266997Z",
     "shell.execute_reply": "2021-08-04T22:11:57.266366Z",
     "shell.execute_reply.started": "2021-08-04T22:08:26.663589Z"
    },
    "papermill": {
     "duration": 0.112559,
     "end_time": "2021-08-04T22:11:57.267174",
     "exception": false,
     "start_time": "2021-08-04T22:11:57.154615",
     "status": "completed"
    },
    "tags": []
   },
   "outputs": [
    {
     "data": {
      "text/html": [
       "<div>\n",
       "<style scoped>\n",
       "    .dataframe tbody tr th:only-of-type {\n",
       "        vertical-align: middle;\n",
       "    }\n",
       "\n",
       "    .dataframe tbody tr th {\n",
       "        vertical-align: top;\n",
       "    }\n",
       "\n",
       "    .dataframe thead th {\n",
       "        text-align: right;\n",
       "    }\n",
       "</style>\n",
       "<table border=\"1\" class=\"dataframe\">\n",
       "  <thead>\n",
       "    <tr style=\"text-align: right;\">\n",
       "      <th></th>\n",
       "      <th>scaled_amount</th>\n",
       "      <th>scaled_time</th>\n",
       "      <th>V1</th>\n",
       "      <th>V2</th>\n",
       "      <th>V3</th>\n",
       "      <th>V4</th>\n",
       "      <th>V5</th>\n",
       "      <th>V6</th>\n",
       "      <th>V7</th>\n",
       "      <th>V8</th>\n",
       "      <th>...</th>\n",
       "      <th>V20</th>\n",
       "      <th>V21</th>\n",
       "      <th>V22</th>\n",
       "      <th>V23</th>\n",
       "      <th>V24</th>\n",
       "      <th>V25</th>\n",
       "      <th>V26</th>\n",
       "      <th>V27</th>\n",
       "      <th>V28</th>\n",
       "      <th>Class</th>\n",
       "    </tr>\n",
       "  </thead>\n",
       "  <tbody>\n",
       "    <tr>\n",
       "      <th>0</th>\n",
       "      <td>1.783274</td>\n",
       "      <td>-0.994983</td>\n",
       "      <td>-1.359807</td>\n",
       "      <td>-0.072781</td>\n",
       "      <td>2.536347</td>\n",
       "      <td>1.378155</td>\n",
       "      <td>-0.338321</td>\n",
       "      <td>0.462388</td>\n",
       "      <td>0.239599</td>\n",
       "      <td>0.098698</td>\n",
       "      <td>...</td>\n",
       "      <td>0.251412</td>\n",
       "      <td>-0.018307</td>\n",
       "      <td>0.277838</td>\n",
       "      <td>-0.110474</td>\n",
       "      <td>0.066928</td>\n",
       "      <td>0.128539</td>\n",
       "      <td>-0.189115</td>\n",
       "      <td>0.133558</td>\n",
       "      <td>-0.021053</td>\n",
       "      <td>0</td>\n",
       "    </tr>\n",
       "    <tr>\n",
       "      <th>1</th>\n",
       "      <td>-0.269825</td>\n",
       "      <td>-0.994983</td>\n",
       "      <td>1.191857</td>\n",
       "      <td>0.266151</td>\n",
       "      <td>0.166480</td>\n",
       "      <td>0.448154</td>\n",
       "      <td>0.060018</td>\n",
       "      <td>-0.082361</td>\n",
       "      <td>-0.078803</td>\n",
       "      <td>0.085102</td>\n",
       "      <td>...</td>\n",
       "      <td>-0.069083</td>\n",
       "      <td>-0.225775</td>\n",
       "      <td>-0.638672</td>\n",
       "      <td>0.101288</td>\n",
       "      <td>-0.339846</td>\n",
       "      <td>0.167170</td>\n",
       "      <td>0.125895</td>\n",
       "      <td>-0.008983</td>\n",
       "      <td>0.014724</td>\n",
       "      <td>0</td>\n",
       "    </tr>\n",
       "    <tr>\n",
       "      <th>2</th>\n",
       "      <td>4.983721</td>\n",
       "      <td>-0.994972</td>\n",
       "      <td>-1.358354</td>\n",
       "      <td>-1.340163</td>\n",
       "      <td>1.773209</td>\n",
       "      <td>0.379780</td>\n",
       "      <td>-0.503198</td>\n",
       "      <td>1.800499</td>\n",
       "      <td>0.791461</td>\n",
       "      <td>0.247676</td>\n",
       "      <td>...</td>\n",
       "      <td>0.524980</td>\n",
       "      <td>0.247998</td>\n",
       "      <td>0.771679</td>\n",
       "      <td>0.909412</td>\n",
       "      <td>-0.689281</td>\n",
       "      <td>-0.327642</td>\n",
       "      <td>-0.139097</td>\n",
       "      <td>-0.055353</td>\n",
       "      <td>-0.059752</td>\n",
       "      <td>0</td>\n",
       "    </tr>\n",
       "    <tr>\n",
       "      <th>3</th>\n",
       "      <td>1.418291</td>\n",
       "      <td>-0.994972</td>\n",
       "      <td>-0.966272</td>\n",
       "      <td>-0.185226</td>\n",
       "      <td>1.792993</td>\n",
       "      <td>-0.863291</td>\n",
       "      <td>-0.010309</td>\n",
       "      <td>1.247203</td>\n",
       "      <td>0.237609</td>\n",
       "      <td>0.377436</td>\n",
       "      <td>...</td>\n",
       "      <td>-0.208038</td>\n",
       "      <td>-0.108300</td>\n",
       "      <td>0.005274</td>\n",
       "      <td>-0.190321</td>\n",
       "      <td>-1.175575</td>\n",
       "      <td>0.647376</td>\n",
       "      <td>-0.221929</td>\n",
       "      <td>0.062723</td>\n",
       "      <td>0.061458</td>\n",
       "      <td>0</td>\n",
       "    </tr>\n",
       "    <tr>\n",
       "      <th>4</th>\n",
       "      <td>0.670579</td>\n",
       "      <td>-0.994960</td>\n",
       "      <td>-1.158233</td>\n",
       "      <td>0.877737</td>\n",
       "      <td>1.548718</td>\n",
       "      <td>0.403034</td>\n",
       "      <td>-0.407193</td>\n",
       "      <td>0.095921</td>\n",
       "      <td>0.592941</td>\n",
       "      <td>-0.270533</td>\n",
       "      <td>...</td>\n",
       "      <td>0.408542</td>\n",
       "      <td>-0.009431</td>\n",
       "      <td>0.798278</td>\n",
       "      <td>-0.137458</td>\n",
       "      <td>0.141267</td>\n",
       "      <td>-0.206010</td>\n",
       "      <td>0.502292</td>\n",
       "      <td>0.219422</td>\n",
       "      <td>0.215153</td>\n",
       "      <td>0</td>\n",
       "    </tr>\n",
       "  </tbody>\n",
       "</table>\n",
       "<p>5 rows × 31 columns</p>\n",
       "</div>"
      ],
      "text/plain": [
       "   scaled_amount  scaled_time        V1        V2        V3        V4  \\\n",
       "0       1.783274    -0.994983 -1.359807 -0.072781  2.536347  1.378155   \n",
       "1      -0.269825    -0.994983  1.191857  0.266151  0.166480  0.448154   \n",
       "2       4.983721    -0.994972 -1.358354 -1.340163  1.773209  0.379780   \n",
       "3       1.418291    -0.994972 -0.966272 -0.185226  1.792993 -0.863291   \n",
       "4       0.670579    -0.994960 -1.158233  0.877737  1.548718  0.403034   \n",
       "\n",
       "         V5        V6        V7        V8  ...       V20       V21       V22  \\\n",
       "0 -0.338321  0.462388  0.239599  0.098698  ...  0.251412 -0.018307  0.277838   \n",
       "1  0.060018 -0.082361 -0.078803  0.085102  ... -0.069083 -0.225775 -0.638672   \n",
       "2 -0.503198  1.800499  0.791461  0.247676  ...  0.524980  0.247998  0.771679   \n",
       "3 -0.010309  1.247203  0.237609  0.377436  ... -0.208038 -0.108300  0.005274   \n",
       "4 -0.407193  0.095921  0.592941 -0.270533  ...  0.408542 -0.009431  0.798278   \n",
       "\n",
       "        V23       V24       V25       V26       V27       V28  Class  \n",
       "0 -0.110474  0.066928  0.128539 -0.189115  0.133558 -0.021053      0  \n",
       "1  0.101288 -0.339846  0.167170  0.125895 -0.008983  0.014724      0  \n",
       "2  0.909412 -0.689281 -0.327642 -0.139097 -0.055353 -0.059752      0  \n",
       "3 -0.190321 -1.175575  0.647376 -0.221929  0.062723  0.061458      0  \n",
       "4 -0.137458  0.141267 -0.206010  0.502292  0.219422  0.215153      0  \n",
       "\n",
       "[5 rows x 31 columns]"
      ]
     },
     "execution_count": 18,
     "metadata": {},
     "output_type": "execute_result"
    }
   ],
   "source": [
    "scaled_amount = df['scaled_amount']\n",
    "scaled_time = df['scaled_time']\n",
    "\n",
    "df.drop(['scaled_amount','scaled_time'], axis=1, inplace=True)\n",
    "df.insert(0, 'scaled_amount', scaled_amount)\n",
    "df.insert(1, 'scaled_time', scaled_time)\n",
    "\n",
    "df.head()"
   ]
  },
  {
   "cell_type": "code",
   "execution_count": 19,
   "metadata": {
    "execution": {
     "iopub.execute_input": "2021-08-04T22:11:57.372964Z",
     "iopub.status.busy": "2021-08-04T22:11:57.372261Z",
     "iopub.status.idle": "2021-08-04T22:11:57.611770Z",
     "shell.execute_reply": "2021-08-04T22:11:57.610718Z",
     "shell.execute_reply.started": "2021-08-04T22:08:26.723134Z"
    },
    "papermill": {
     "duration": 0.295148,
     "end_time": "2021-08-04T22:11:57.611941",
     "exception": false,
     "start_time": "2021-08-04T22:11:57.316793",
     "status": "completed"
    },
    "tags": []
   },
   "outputs": [
    {
     "data": {
      "text/html": [
       "<div>\n",
       "<style scoped>\n",
       "    .dataframe tbody tr th:only-of-type {\n",
       "        vertical-align: middle;\n",
       "    }\n",
       "\n",
       "    .dataframe tbody tr th {\n",
       "        vertical-align: top;\n",
       "    }\n",
       "\n",
       "    .dataframe thead th {\n",
       "        text-align: right;\n",
       "    }\n",
       "</style>\n",
       "<table border=\"1\" class=\"dataframe\">\n",
       "  <thead>\n",
       "    <tr style=\"text-align: right;\">\n",
       "      <th></th>\n",
       "      <th>scaled_amount</th>\n",
       "      <th>scaled_time</th>\n",
       "      <th>V1</th>\n",
       "      <th>V2</th>\n",
       "      <th>V3</th>\n",
       "      <th>V4</th>\n",
       "      <th>V5</th>\n",
       "      <th>V6</th>\n",
       "      <th>V7</th>\n",
       "      <th>V8</th>\n",
       "      <th>...</th>\n",
       "      <th>V20</th>\n",
       "      <th>V21</th>\n",
       "      <th>V22</th>\n",
       "      <th>V23</th>\n",
       "      <th>V24</th>\n",
       "      <th>V25</th>\n",
       "      <th>V26</th>\n",
       "      <th>V27</th>\n",
       "      <th>V28</th>\n",
       "      <th>Class</th>\n",
       "    </tr>\n",
       "  </thead>\n",
       "  <tbody>\n",
       "    <tr>\n",
       "      <th>132735</th>\n",
       "      <td>-0.293440</td>\n",
       "      <td>-0.054030</td>\n",
       "      <td>1.170943</td>\n",
       "      <td>0.628200</td>\n",
       "      <td>-0.253306</td>\n",
       "      <td>1.385773</td>\n",
       "      <td>0.041673</td>\n",
       "      <td>-0.979345</td>\n",
       "      <td>0.187290</td>\n",
       "      <td>-0.082545</td>\n",
       "      <td>...</td>\n",
       "      <td>-0.191301</td>\n",
       "      <td>-0.027843</td>\n",
       "      <td>-0.012806</td>\n",
       "      <td>-0.044263</td>\n",
       "      <td>0.245038</td>\n",
       "      <td>0.547925</td>\n",
       "      <td>-0.315218</td>\n",
       "      <td>0.046957</td>\n",
       "      <td>0.055683</td>\n",
       "      <td>0</td>\n",
       "    </tr>\n",
       "    <tr>\n",
       "      <th>50537</th>\n",
       "      <td>-0.293440</td>\n",
       "      <td>-0.471810</td>\n",
       "      <td>-0.234922</td>\n",
       "      <td>0.355413</td>\n",
       "      <td>1.972183</td>\n",
       "      <td>-1.255593</td>\n",
       "      <td>-0.681387</td>\n",
       "      <td>-0.665732</td>\n",
       "      <td>0.059110</td>\n",
       "      <td>-0.003153</td>\n",
       "      <td>...</td>\n",
       "      <td>-0.003469</td>\n",
       "      <td>0.220670</td>\n",
       "      <td>0.912107</td>\n",
       "      <td>-0.286338</td>\n",
       "      <td>0.451208</td>\n",
       "      <td>0.188315</td>\n",
       "      <td>-0.531846</td>\n",
       "      <td>0.123185</td>\n",
       "      <td>0.039581</td>\n",
       "      <td>1</td>\n",
       "    </tr>\n",
       "    <tr>\n",
       "      <th>98666</th>\n",
       "      <td>-0.236149</td>\n",
       "      <td>-0.210693</td>\n",
       "      <td>1.134535</td>\n",
       "      <td>-0.212000</td>\n",
       "      <td>1.492789</td>\n",
       "      <td>0.615919</td>\n",
       "      <td>-1.243808</td>\n",
       "      <td>-0.166703</td>\n",
       "      <td>-0.901213</td>\n",
       "      <td>0.202898</td>\n",
       "      <td>...</td>\n",
       "      <td>-0.129019</td>\n",
       "      <td>0.263437</td>\n",
       "      <td>0.843428</td>\n",
       "      <td>0.044646</td>\n",
       "      <td>0.446613</td>\n",
       "      <td>0.063853</td>\n",
       "      <td>0.588360</td>\n",
       "      <td>0.029461</td>\n",
       "      <td>0.029845</td>\n",
       "      <td>0</td>\n",
       "    </tr>\n",
       "    <tr>\n",
       "      <th>223618</th>\n",
       "      <td>-0.293440</td>\n",
       "      <td>0.690375</td>\n",
       "      <td>-2.006582</td>\n",
       "      <td>3.676577</td>\n",
       "      <td>-5.463811</td>\n",
       "      <td>7.232058</td>\n",
       "      <td>-1.627859</td>\n",
       "      <td>-0.996755</td>\n",
       "      <td>-4.299833</td>\n",
       "      <td>2.268867</td>\n",
       "      <td>...</td>\n",
       "      <td>0.474414</td>\n",
       "      <td>0.713907</td>\n",
       "      <td>-0.063868</td>\n",
       "      <td>0.167947</td>\n",
       "      <td>-0.449864</td>\n",
       "      <td>0.023702</td>\n",
       "      <td>0.536905</td>\n",
       "      <td>0.485864</td>\n",
       "      <td>-0.042393</td>\n",
       "      <td>1</td>\n",
       "    </tr>\n",
       "    <tr>\n",
       "      <th>58761</th>\n",
       "      <td>-0.293440</td>\n",
       "      <td>-0.424805</td>\n",
       "      <td>1.243848</td>\n",
       "      <td>0.524526</td>\n",
       "      <td>-0.538884</td>\n",
       "      <td>1.209196</td>\n",
       "      <td>0.479538</td>\n",
       "      <td>-0.197429</td>\n",
       "      <td>0.049166</td>\n",
       "      <td>0.037792</td>\n",
       "      <td>...</td>\n",
       "      <td>-0.171541</td>\n",
       "      <td>-0.051660</td>\n",
       "      <td>-0.084089</td>\n",
       "      <td>-0.192846</td>\n",
       "      <td>-0.917392</td>\n",
       "      <td>0.681953</td>\n",
       "      <td>-0.194419</td>\n",
       "      <td>0.045917</td>\n",
       "      <td>0.040136</td>\n",
       "      <td>1</td>\n",
       "    </tr>\n",
       "  </tbody>\n",
       "</table>\n",
       "<p>5 rows × 31 columns</p>\n",
       "</div>"
      ],
      "text/plain": [
       "        scaled_amount  scaled_time        V1        V2        V3        V4  \\\n",
       "132735      -0.293440    -0.054030  1.170943  0.628200 -0.253306  1.385773   \n",
       "50537       -0.293440    -0.471810 -0.234922  0.355413  1.972183 -1.255593   \n",
       "98666       -0.236149    -0.210693  1.134535 -0.212000  1.492789  0.615919   \n",
       "223618      -0.293440     0.690375 -2.006582  3.676577 -5.463811  7.232058   \n",
       "58761       -0.293440    -0.424805  1.243848  0.524526 -0.538884  1.209196   \n",
       "\n",
       "              V5        V6        V7        V8  ...       V20       V21  \\\n",
       "132735  0.041673 -0.979345  0.187290 -0.082545  ... -0.191301 -0.027843   \n",
       "50537  -0.681387 -0.665732  0.059110 -0.003153  ... -0.003469  0.220670   \n",
       "98666  -1.243808 -0.166703 -0.901213  0.202898  ... -0.129019  0.263437   \n",
       "223618 -1.627859 -0.996755 -4.299833  2.268867  ...  0.474414  0.713907   \n",
       "58761   0.479538 -0.197429  0.049166  0.037792  ... -0.171541 -0.051660   \n",
       "\n",
       "             V22       V23       V24       V25       V26       V27       V28  \\\n",
       "132735 -0.012806 -0.044263  0.245038  0.547925 -0.315218  0.046957  0.055683   \n",
       "50537   0.912107 -0.286338  0.451208  0.188315 -0.531846  0.123185  0.039581   \n",
       "98666   0.843428  0.044646  0.446613  0.063853  0.588360  0.029461  0.029845   \n",
       "223618 -0.063868  0.167947 -0.449864  0.023702  0.536905  0.485864 -0.042393   \n",
       "58761  -0.084089 -0.192846 -0.917392  0.681953 -0.194419  0.045917  0.040136   \n",
       "\n",
       "        Class  \n",
       "132735      0  \n",
       "50537       1  \n",
       "98666       0  \n",
       "223618      1  \n",
       "58761       1  \n",
       "\n",
       "[5 rows x 31 columns]"
      ]
     },
     "execution_count": 19,
     "metadata": {},
     "output_type": "execute_result"
    }
   ],
   "source": [
    "#shuffling the data before creating the subsamples\n",
    "\n",
    "df = df.sample(frac=1)\n",
    "\n",
    "# amount of fraud classes 492 rows.\n",
    "fraud_df = df.loc[df['Class'] == 1]\n",
    "non_fraud_df = df.loc[df['Class'] == 0][:492]\n",
    "\n",
    "normal_distributed_df = pd.concat([fraud_df, non_fraud_df])\n",
    "\n",
    "# Shuffle dataframe rows\n",
    "new_df = normal_distributed_df.sample(frac=1, random_state=42)\n",
    "\n",
    "new_df.head()"
   ]
  },
  {
   "cell_type": "code",
   "execution_count": 20,
   "metadata": {
    "execution": {
     "iopub.execute_input": "2021-08-04T22:11:57.721820Z",
     "iopub.status.busy": "2021-08-04T22:11:57.720982Z",
     "iopub.status.idle": "2021-08-04T22:11:57.851371Z",
     "shell.execute_reply": "2021-08-04T22:11:57.851892Z",
     "shell.execute_reply.started": "2021-08-04T22:08:26.920115Z"
    },
    "papermill": {
     "duration": 0.190533,
     "end_time": "2021-08-04T22:11:57.852112",
     "exception": false,
     "start_time": "2021-08-04T22:11:57.661579",
     "status": "completed"
    },
    "tags": []
   },
   "outputs": [
    {
     "name": "stdout",
     "output_type": "stream",
     "text": [
      "Distribution of the Classes in the subsample dataset\n",
      "0    0.5\n",
      "1    0.5\n",
      "Name: Class, dtype: float64\n"
     ]
    },
    {
     "data": {
      "image/png": "[encoded data removed]",
      "text/plain": [
       "<Figure size 432x288 with 1 Axes>"
      ]
     },
     "metadata": {
      "needs_background": "light"
     },
     "output_type": "display_data"
    }
   ],
   "source": [
    "print('Distribution of the Classes in the subsample dataset')\n",
    "print(new_df['Class'].value_counts()/len(new_df))\n",
    "\n",
    "\n",
    "\n",
    "sns.countplot('Class', data=new_df)\n",
    "plt.title('Equally Distributed Classes', fontsize=14)\n",
    "plt.show()"
   ]
  },
  {
   "cell_type": "code",
   "execution_count": 21,
   "metadata": {
    "execution": {
     "iopub.execute_input": "2021-08-04T22:11:57.961644Z",
     "iopub.status.busy": "2021-08-04T22:11:57.960719Z",
     "iopub.status.idle": "2021-08-04T22:11:57.964372Z",
     "shell.execute_reply": "2021-08-04T22:11:57.963799Z",
     "shell.execute_reply.started": "2021-08-04T22:08:27.020448Z"
    },
    "papermill": {
     "duration": 0.061348,
     "end_time": "2021-08-04T22:11:57.964539",
     "exception": false,
     "start_time": "2021-08-04T22:11:57.903191",
     "status": "completed"
    },
    "tags": []
   },
   "outputs": [],
   "source": [
    "normal = new_df[new_df['Class'] == 0]\n",
    "fraud = new_df[new_df['Class'] == 1]"
   ]
  },
  {
   "cell_type": "code",
   "execution_count": 22,
   "metadata": {
    "execution": {
     "iopub.execute_input": "2021-08-04T22:11:58.073124Z",
     "iopub.status.busy": "2021-08-04T22:11:58.072252Z",
     "iopub.status.idle": "2021-08-04T22:11:58.077992Z",
     "shell.execute_reply": "2021-08-04T22:11:58.076955Z",
     "shell.execute_reply.started": "2021-08-04T22:08:27.028256Z"
    },
    "papermill": {
     "duration": 0.061858,
     "end_time": "2021-08-04T22:11:58.078220",
     "exception": false,
     "start_time": "2021-08-04T22:11:58.016362",
     "status": "completed"
    },
    "tags": []
   },
   "outputs": [
    {
     "name": "stdout",
     "output_type": "stream",
     "text": [
      "(492, 31) (492, 31)\n"
     ]
    }
   ],
   "source": [
    "print (normal.shape, fraud.shape)"
   ]
  },
  {
   "cell_type": "code",
   "execution_count": 23,
   "metadata": {
    "execution": {
     "iopub.execute_input": "2021-08-04T22:11:58.205940Z",
     "iopub.status.busy": "2021-08-04T22:11:58.205140Z",
     "iopub.status.idle": "2021-08-04T22:11:58.988634Z",
     "shell.execute_reply": "2021-08-04T22:11:58.988115Z",
     "shell.execute_reply.started": "2021-08-04T22:08:27.043422Z"
    },
    "papermill": {
     "duration": 0.860857,
     "end_time": "2021-08-04T22:11:58.988791",
     "exception": false,
     "start_time": "2021-08-04T22:11:58.127934",
     "status": "completed"
    },
    "tags": []
   },
   "outputs": [
    {
     "data": {
      "image/png": "[encoded data removed]",
      "text/plain": [
       "<Figure size 1008x1008 with 2 Axes>"
      ]
     },
     "metadata": {
      "needs_background": "light"
     },
     "output_type": "display_data"
    }
   ],
   "source": [
    "#Cheking the heatmap again with the sampled data\n",
    "plt.figure(figsize = (14,14))\n",
    "plt.title('Transactions features correlation')\n",
    "corr = new_df.corr()\n",
    "sns.heatmap(corr,xticklabels=corr.columns,yticklabels=corr.columns,linewidths=.1,cmap=\"Reds\")\n",
    "plt.show()"
   ]
  },
  {
   "cell_type": "markdown",
   "metadata": {
    "papermill": {
     "duration": 0.051097,
     "end_time": "2021-08-04T22:11:59.095057",
     "exception": false,
     "start_time": "2021-08-04T22:11:59.043960",
     "status": "completed"
    },
    "tags": []
   },
   "source": [
    "# Dimensionality Reduction and Clustering"
   ]
  },
  {
   "cell_type": "markdown",
   "metadata": {
    "papermill": {
     "duration": 0.050604,
     "end_time": "2021-08-04T22:11:59.195470",
     "exception": false,
     "start_time": "2021-08-04T22:11:59.144866",
     "status": "completed"
    },
    "tags": []
   },
   "source": [
    "- What does t-SNE does is to find a way to project data into low dimentional space so that clustering in high dimnsional space is preserved, it turns high dimnsional data into less dimensions withouth losing much data and it's very similar to PCA\n",
    "\n",
    "This gives us an indication that further predictive models will perform pretty well in separating fraud cases from non-fraud cases"
   ]
  },
  {
   "cell_type": "code",
   "execution_count": 24,
   "metadata": {
    "execution": {
     "iopub.execute_input": "2021-08-04T22:11:59.302932Z",
     "iopub.status.busy": "2021-08-04T22:11:59.302225Z",
     "iopub.status.idle": "2021-08-04T22:11:59.597566Z",
     "shell.execute_reply": "2021-08-04T22:11:59.596330Z",
     "shell.execute_reply.started": "2021-08-04T22:08:27.688374Z"
    },
    "papermill": {
     "duration": 0.349746,
     "end_time": "2021-08-04T22:11:59.597789",
     "exception": false,
     "start_time": "2021-08-04T22:11:59.248043",
     "status": "completed"
    },
    "tags": []
   },
   "outputs": [],
   "source": [
    "from sklearn.manifold import TSNE\n",
    "from sklearn.decomposition import PCA, TruncatedSVD"
   ]
  },
  {
   "cell_type": "code",
   "execution_count": 25,
   "metadata": {
    "execution": {
     "iopub.execute_input": "2021-08-04T22:11:59.712632Z",
     "iopub.status.busy": "2021-08-04T22:11:59.711805Z",
     "iopub.status.idle": "2021-08-04T22:12:04.913957Z",
     "shell.execute_reply": "2021-08-04T22:12:04.915211Z",
     "shell.execute_reply.started": "2021-08-04T22:08:27.940532Z"
    },
    "papermill": {
     "duration": 5.267262,
     "end_time": "2021-08-04T22:12:04.915617",
     "exception": false,
     "start_time": "2021-08-04T22:11:59.648355",
     "status": "completed"
    },
    "tags": []
   },
   "outputs": [],
   "source": [
    "X = new_df.drop('Class', axis =1)\n",
    "y = new_df['Class']\n",
    "\n",
    "#t-SNE Implmentation\n",
    "X_reduced_tsne = TSNE(n_components=2, random_state=42).fit_transform(X.values)\n",
    "\n",
    "#PCA Implmentation\n",
    "X_reduced_pca = PCA(n_components=2, random_state=42).fit_transform(X.values)\n",
    "\n",
    "#TruncatedSVD\n",
    "X_reduced_svd = TruncatedSVD(n_components=2, algorithm='randomized', random_state=42).fit_transform(X.values)"
   ]
  },
  {
   "cell_type": "code",
   "execution_count": 26,
   "metadata": {
    "execution": {
     "iopub.execute_input": "2021-08-04T22:12:05.079825Z",
     "iopub.status.busy": "2021-08-04T22:12:05.078371Z",
     "iopub.status.idle": "2021-08-04T22:12:05.080632Z",
     "shell.execute_reply": "2021-08-04T22:12:05.081174Z",
     "shell.execute_reply.started": "2021-08-04T22:08:32.154281Z"
    },
    "papermill": {
     "duration": 0.069644,
     "end_time": "2021-08-04T22:12:05.081400",
     "exception": false,
     "start_time": "2021-08-04T22:12:05.011756",
     "status": "completed"
    },
    "tags": []
   },
   "outputs": [],
   "source": [
    "import matplotlib.patches as mpatches"
   ]
  },
  {
   "cell_type": "code",
   "execution_count": 27,
   "metadata": {
    "execution": {
     "iopub.execute_input": "2021-08-04T22:12:05.187435Z",
     "iopub.status.busy": "2021-08-04T22:12:05.186641Z",
     "iopub.status.idle": "2021-08-04T22:12:05.947115Z",
     "shell.execute_reply": "2021-08-04T22:12:05.947834Z",
     "shell.execute_reply.started": "2021-08-04T22:08:32.161504Z"
    },
    "papermill": {
     "duration": 0.815425,
     "end_time": "2021-08-04T22:12:05.948043",
     "exception": false,
     "start_time": "2021-08-04T22:12:05.132618",
     "status": "completed"
    },
    "tags": []
   },
   "outputs": [
    {
     "data": {
      "image/png": "[encoded data removed]",
      "text/plain": [
       "<Figure size 2160x432 with 3 Axes>"
      ]
     },
     "metadata": {
      "needs_background": "light"
     },
     "output_type": "display_data"
    }
   ],
   "source": [
    "#Dimensionality Reduction algrithms vis\n",
    "f, (ax1, ax2, ax3) = plt.subplots(1, 3, figsize=(30,6))\n",
    "f.suptitle('Dimensionality Reduction Clusters')\n",
    "\n",
    "blue_patch = mpatches.Patch(color='#0A0AFF', label='Not Fraud')\n",
    "red_patch = mpatches.Patch(color='#AF0000', label = 'Fraud')\n",
    "\n",
    "#t-SNE scatter plot\n",
    "ax1.scatter(X_reduced_tsne[:,0], X_reduced_tsne[:,1], c=(y == 0), cmap='coolwarm', label='No Fraud', linewidths=2)\n",
    "ax1.scatter(X_reduced_tsne[:,0], X_reduced_tsne[:,1], c=(y == 1), cmap='coolwarm', label='Fraud', linewidths=2)\n",
    "ax1.set_title('t-SNE', fontsize=14)\n",
    "ax1.grid(True)\n",
    "ax1.legend(handles=[blue_patch, red_patch])\n",
    " \n",
    "#PCA scatter plot\n",
    "ax2.scatter(X_reduced_pca[:,0], X_reduced_pca[:,1], c=(y == 0), cmap='coolwarm', label='No Fraud', linewidths=2)\n",
    "ax2.scatter(X_reduced_pca[:,0], X_reduced_pca[:,1], c=(y == 1), cmap='coolwarm', label='Fraud', linewidths=2)\n",
    "ax2.set_title('PCA', fontsize=14)\n",
    "ax2.grid(True)\n",
    "ax2.legend(handles=[blue_patch, red_patch])\n",
    "\n",
    "#TruncatedSVD scatter plot\n",
    "ax3.scatter(X_reduced_svd[:,0], X_reduced_svd[:,1], c=(y == 0), cmap='coolwarm', label='No Fraud', linewidths=2)\n",
    "ax3.scatter(X_reduced_svd[:,0], X_reduced_svd[:,1], c=(y == 1), cmap='coolwarm', label='Fraud', linewidths=2)\n",
    "ax3.set_title('Truncated SVD', fontsize=14)\n",
    "ax3.grid(True)\n",
    "ax3.legend(handles=[blue_patch, red_patch])\n",
    "\n",
    "plt.show()"
   ]
  },
  {
   "cell_type": "markdown",
   "metadata": {
    "papermill": {
     "duration": 0.056195,
     "end_time": "2021-08-04T22:12:06.061845",
     "exception": false,
     "start_time": "2021-08-04T22:12:06.005650",
     "status": "completed"
    },
    "tags": []
   },
   "source": [
    "#### Logistic Regression\n",
    "Logistic Regression will be good here as can detect fraud (0 or 1)"
   ]
  },
  {
   "cell_type": "code",
   "execution_count": 28,
   "metadata": {
    "execution": {
     "iopub.execute_input": "2021-08-04T22:12:06.177466Z",
     "iopub.status.busy": "2021-08-04T22:12:06.176266Z",
     "iopub.status.idle": "2021-08-04T22:12:06.183336Z",
     "shell.execute_reply": "2021-08-04T22:12:06.184110Z",
     "shell.execute_reply.started": "2021-08-04T22:08:32.808309Z"
    },
    "papermill": {
     "duration": 0.066112,
     "end_time": "2021-08-04T22:12:06.184398",
     "exception": false,
     "start_time": "2021-08-04T22:12:06.118286",
     "status": "completed"
    },
    "tags": []
   },
   "outputs": [],
   "source": [
    "X = new_df.drop('Class', axis = 1)\n",
    "y = new_df['Class']"
   ]
  },
  {
   "cell_type": "code",
   "execution_count": 29,
   "metadata": {
    "execution": {
     "iopub.execute_input": "2021-08-04T22:12:06.299294Z",
     "iopub.status.busy": "2021-08-04T22:12:06.298565Z",
     "iopub.status.idle": "2021-08-04T22:12:06.303309Z",
     "shell.execute_reply": "2021-08-04T22:12:06.303848Z",
     "shell.execute_reply.started": "2021-08-04T22:08:32.817007Z"
    },
    "papermill": {
     "duration": 0.064825,
     "end_time": "2021-08-04T22:12:06.304160",
     "exception": false,
     "start_time": "2021-08-04T22:12:06.239335",
     "status": "completed"
    },
    "tags": []
   },
   "outputs": [],
   "source": [
    "from sklearn.model_selection import train_test_split\n",
    "from sklearn.linear_model import LogisticRegression\n",
    "from sklearn.model_selection import cross_val_score\n",
    "from sklearn.metrics import accuracy_score, roc_curve, roc_auc_score"
   ]
  },
  {
   "cell_type": "code",
   "execution_count": 30,
   "metadata": {
    "execution": {
     "iopub.execute_input": "2021-08-04T22:12:06.418648Z",
     "iopub.status.busy": "2021-08-04T22:12:06.417970Z",
     "iopub.status.idle": "2021-08-04T22:12:06.426490Z",
     "shell.execute_reply": "2021-08-04T22:12:06.426987Z",
     "shell.execute_reply.started": "2021-08-04T22:08:32.829076Z"
    },
    "papermill": {
     "duration": 0.066444,
     "end_time": "2021-08-04T22:12:06.427219",
     "exception": false,
     "start_time": "2021-08-04T22:12:06.360775",
     "status": "completed"
    },
    "tags": []
   },
   "outputs": [],
   "source": [
    "X_train, X_test, y_train, y_test = train_test_split(X, y, test_size=.2, random_state=42)"
   ]
  },
  {
   "cell_type": "code",
   "execution_count": 31,
   "metadata": {
    "execution": {
     "iopub.execute_input": "2021-08-04T22:12:06.545291Z",
     "iopub.status.busy": "2021-08-04T22:12:06.544588Z",
     "iopub.status.idle": "2021-08-04T22:12:06.548368Z",
     "shell.execute_reply": "2021-08-04T22:12:06.547601Z",
     "shell.execute_reply.started": "2021-08-04T22:08:32.845221Z"
    },
    "papermill": {
     "duration": 0.064479,
     "end_time": "2021-08-04T22:12:06.548593",
     "exception": false,
     "start_time": "2021-08-04T22:12:06.484114",
     "status": "completed"
    },
    "tags": []
   },
   "outputs": [],
   "source": [
    "X_train = X_train.values\n",
    "X_test = X_test.values\n",
    "y_train = y_train.values\n",
    "y_test = y_test.values"
   ]
  },
  {
   "cell_type": "code",
   "execution_count": 32,
   "metadata": {
    "execution": {
     "iopub.execute_input": "2021-08-04T22:12:06.666259Z",
     "iopub.status.busy": "2021-08-04T22:12:06.665492Z",
     "iopub.status.idle": "2021-08-04T22:12:06.937893Z",
     "shell.execute_reply": "2021-08-04T22:12:06.939259Z",
     "shell.execute_reply.started": "2021-08-04T22:08:32.859997Z"
    },
    "papermill": {
     "duration": 0.334705,
     "end_time": "2021-08-04T22:12:06.939568",
     "exception": false,
     "start_time": "2021-08-04T22:12:06.604863",
     "status": "completed"
    },
    "tags": []
   },
   "outputs": [
    {
     "name": "stdout",
     "output_type": "stream",
     "text": [
      "train score of LogisticRegression is 0.9300639987662889 %\n"
     ]
    }
   ],
   "source": [
    "clf = LogisticRegression()\n",
    "clf.fit(X_train, y_train)\n",
    "score = cross_val_score(clf, X_train, y_train, cv = 6)\n",
    "print ('train score of LogisticRegression is', score.mean(),'%')"
   ]
  },
  {
   "cell_type": "code",
   "execution_count": 33,
   "metadata": {
    "execution": {
     "iopub.execute_input": "2021-08-04T22:12:07.109001Z",
     "iopub.status.busy": "2021-08-04T22:12:07.107879Z",
     "iopub.status.idle": "2021-08-04T22:12:08.563583Z",
     "shell.execute_reply": "2021-08-04T22:12:08.564461Z",
     "shell.execute_reply.started": "2021-08-04T22:08:33.143966Z"
    },
    "papermill": {
     "duration": 1.525423,
     "end_time": "2021-08-04T22:12:08.564758",
     "exception": false,
     "start_time": "2021-08-04T22:12:07.039335",
     "status": "completed"
    },
    "tags": []
   },
   "outputs": [],
   "source": [
    "from sklearn.model_selection import GridSearchCV\n",
    "# We will use GridSearchCV to find the best parameters for this model\n",
    "log_reg_params = {\"penalty\": ['l1', 'l2'], 'C': [0.001, 0.01, 0.1, 1, 10, 100, 1000]}\n",
    "grid_log_reg = GridSearchCV(LogisticRegression(), log_reg_params)\n",
    "grid_log_reg.fit(X_train, y_train)\n",
    "log_reg = grid_log_reg.best_estimator_"
   ]
  },
  {
   "cell_type": "code",
   "execution_count": 34,
   "metadata": {
    "execution": {
     "iopub.execute_input": "2021-08-04T22:12:08.734795Z",
     "iopub.status.busy": "2021-08-04T22:12:08.733337Z",
     "iopub.status.idle": "2021-08-04T22:12:08.880800Z",
     "shell.execute_reply": "2021-08-04T22:12:08.881801Z",
     "shell.execute_reply.started": "2021-08-04T22:08:34.362993Z"
    },
    "papermill": {
     "duration": 0.216895,
     "end_time": "2021-08-04T22:12:08.882131",
     "exception": false,
     "start_time": "2021-08-04T22:12:08.665236",
     "status": "completed"
    },
    "tags": []
   },
   "outputs": [],
   "source": [
    "train_score = cross_val_score(log_reg, X_train, y_train, cv = 6)"
   ]
  },
  {
   "cell_type": "code",
   "execution_count": 35,
   "metadata": {
    "execution": {
     "iopub.execute_input": "2021-08-04T22:12:09.051876Z",
     "iopub.status.busy": "2021-08-04T22:12:09.051074Z",
     "iopub.status.idle": "2021-08-04T22:12:09.054503Z",
     "shell.execute_reply": "2021-08-04T22:12:09.055437Z",
     "shell.execute_reply.started": "2021-08-04T22:08:34.578125Z"
    },
    "papermill": {
     "duration": 0.072982,
     "end_time": "2021-08-04T22:12:09.055777",
     "exception": false,
     "start_time": "2021-08-04T22:12:08.982795",
     "status": "completed"
    },
    "tags": []
   },
   "outputs": [],
   "source": [
    "y_pred = log_reg.predict(X_test)\n",
    "test_score = accuracy_score(y_test, y_pred)"
   ]
  },
  {
   "cell_type": "code",
   "execution_count": 36,
   "metadata": {
    "execution": {
     "iopub.execute_input": "2021-08-04T22:12:09.175660Z",
     "iopub.status.busy": "2021-08-04T22:12:09.174652Z",
     "iopub.status.idle": "2021-08-04T22:12:09.183651Z",
     "shell.execute_reply": "2021-08-04T22:12:09.184218Z",
     "shell.execute_reply.started": "2021-08-04T22:08:34.585405Z"
    },
    "papermill": {
     "duration": 0.071129,
     "end_time": "2021-08-04T22:12:09.184415",
     "exception": false,
     "start_time": "2021-08-04T22:12:09.113286",
     "status": "completed"
    },
    "tags": []
   },
   "outputs": [
    {
     "name": "stdout",
     "output_type": "stream",
     "text": [
      "Score for training model is 0.9440589097077646 %\n",
      "Score for test model is     0.9441624365482234 %\n"
     ]
    }
   ],
   "source": [
    "print ('Score for training model is',train_score.mean(), '%')\n",
    "print ('Score for test model is    ',test_score, '%')"
   ]
  },
  {
   "cell_type": "markdown",
   "metadata": {
    "papermill": {
     "duration": 0.054263,
     "end_time": "2021-08-04T22:12:09.296339",
     "exception": false,
     "start_time": "2021-08-04T22:12:09.242076",
     "status": "completed"
    },
    "tags": []
   },
   "source": [
    "As we can see there is no much overfitting in our model"
   ]
  },
  {
   "cell_type": "code",
   "execution_count": 37,
   "metadata": {
    "execution": {
     "iopub.execute_input": "2021-08-04T22:12:09.415656Z",
     "iopub.status.busy": "2021-08-04T22:12:09.414653Z",
     "iopub.status.idle": "2021-08-04T22:12:09.550578Z",
     "shell.execute_reply": "2021-08-04T22:12:09.549851Z",
     "shell.execute_reply.started": "2021-08-04T22:08:34.597900Z"
    },
    "papermill": {
     "duration": 0.195933,
     "end_time": "2021-08-04T22:12:09.550789",
     "exception": false,
     "start_time": "2021-08-04T22:12:09.354856",
     "status": "completed"
    },
    "scrolled": true,
    "tags": []
   },
   "outputs": [
    {
     "data": {
      "image/png": "[encoded data removed]",
      "text/plain": [
       "<Figure size 432x288 with 1 Axes>"
      ]
     },
     "metadata": {
      "needs_background": "light"
     },
     "output_type": "display_data"
    }
   ],
   "source": [
    "# Lastly will plot a ROC Curve\n",
    "# calculating the probabilities\n",
    "y_pred_prob = log_reg.predict_proba(X_test)[:,1]\n",
    "\n",
    "# instantiating the roc_cruve\n",
    "fpr,tpr,threshols=roc_curve(y_test,y_pred_prob)\n",
    "\n",
    "# plotting the curve\n",
    "plt.plot([0,1],[0,1],\"k--\",'r+')\n",
    "figsize=(16,12)\n",
    "plt.plot(fpr,tpr,label='Logistic Regression')\n",
    "plt.xlabel(\"False Positive Rate\")\n",
    "plt.ylabel(\"True Positive Rate\")\n",
    "plt.title(\"Logistric Regression ROC Curve\")\n",
    "plt.show()"
   ]
  }
 ],
 "metadata": {
  "kernelspec": {
   "display_name": "Python 3",
   "language": "python",
   "name": "python3"
  },
  "language_info": {
   "codemirror_mode": {
    "name": "ipython",
    "version": 3
   },
   "file_extension": ".py",
   "mimetype": "text/x-python",
   "name": "python",
   "nbconvert_exporter": "python",
   "pygments_lexer": "ipython3",
   "version": "3.8.3"
  },
  "papermill": {
   "default_parameters": {},
   "duration": 39.056103,
   "end_time": "2021-08-04T22:12:11.308560",
   "environment_variables": {},
   "exception": null,
   "input_path": "__notebook__.ipynb",
   "output_path": "__notebook__.ipynb",
   "parameters": {},
   "start_time": "2021-08-04T22:11:32.252457",
   "version": "2.3.3"
  }
 },
 "nbformat": 4,
 "nbformat_minor": 5
}
